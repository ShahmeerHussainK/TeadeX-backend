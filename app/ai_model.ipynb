{
 "cells": [
  {
   "cell_type": "code",
   "execution_count": 19,
   "metadata": {},
   "outputs": [],
   "source": [
    "import pandas as pd\n",
    "from sklearn.model_selection import train_test_split\n",
    "from sklearn.ensemble import GradientBoostingClassifier\n",
    "from sklearn.linear_model import LogisticRegression\n",
    "from sklearn.preprocessing import StandardScaler\n",
    "from sklearn.pipeline import Pipeline\n",
    "from sklearn.metrics import log_loss, roc_auc_score\n",
    "from itertools import combinations\n"
   ]
  },
  {
   "cell_type": "code",
   "execution_count": 41,
   "metadata": {},
   "outputs": [],
   "source": [
    "data = pd.read_excel(\"team_stats_data.xlsx\")"
   ]
  },
  {
   "cell_type": "code",
   "execution_count": 42,
   "metadata": {},
   "outputs": [],
   "source": [
    "data[\"win_rate\"] = data[\"WINS\"] / data[\"GAMES\"]\n"
   ]
  },
  {
   "cell_type": "code",
   "execution_count": 43,
   "metadata": {},
   "outputs": [],
   "source": [
    "features = [\n",
    "    \"ADJ OE\", \"ADJ DE\", \"EFG\", \"EFG D\", \"FT RATE\", \"FT RATE D\", \n",
    "    \"TOV%\", \"TOV% D\", \"O REB%\", \"OP OREB%\", \"2P %\", \"2P % D.\", \"3P %\", \"3P % D.\"\n",
    "]\n",
    "X = data[features]\n",
    "y = data[\"win_rate\"]"
   ]
  },
  {
   "cell_type": "code",
   "execution_count": 44,
   "metadata": {},
   "outputs": [],
   "source": [
    "X_train, X_test, y_train, y_test = train_test_split(X, y, test_size=0.2, random_state=42)\n"
   ]
  },
  {
   "cell_type": "code",
   "execution_count": 47,
   "metadata": {},
   "outputs": [],
   "source": [
    "# Scale the features\n",
    "scaler = StandardScaler()\n",
    "X_train_scaled = scaler.fit_transform(X_train)\n",
    "X_test_scaled = scaler.transform(X_test)"
   ]
  },
  {
   "cell_type": "code",
   "execution_count": 48,
   "metadata": {},
   "outputs": [
    {
     "name": "stdout",
     "output_type": "stream",
     "text": [
      "Mean Squared Error: 0.012169689999817282\n"
     ]
    }
   ],
   "source": [
    "from sklearn.ensemble import GradientBoostingRegressor\n",
    "from sklearn.metrics import mean_squared_error\n",
    "\n",
    "# Train a Gradient Boosting Regressor\n",
    "model = GradientBoostingRegressor(random_state=42)\n",
    "model.fit(X_train_scaled, y_train)\n",
    "\n",
    "# Evaluate the model\n",
    "y_pred = model.predict(X_test_scaled)\n",
    "mse = mean_squared_error(y_test, y_pred)\n",
    "print(f\"Mean Squared Error: {mse}\")\n"
   ]
  },
  {
   "cell_type": "code",
   "execution_count": 49,
   "metadata": {},
   "outputs": [
    {
     "name": "stdout",
     "output_type": "stream",
     "text": [
      "Team 1 Probability: 0.52, Team 2 Probability: 0.48\n"
     ]
    },
    {
     "name": "stderr",
     "output_type": "stream",
     "text": [
      "c:\\Users\\JUNCTION\\Desktop\\DexterzSolution\\sweep_stakes\\venv\\Lib\\site-packages\\sklearn\\utils\\validation.py:2739: UserWarning: X does not have valid feature names, but StandardScaler was fitted with feature names\n",
      "  warnings.warn(\n",
      "c:\\Users\\JUNCTION\\Desktop\\DexterzSolution\\sweep_stakes\\venv\\Lib\\site-packages\\sklearn\\utils\\validation.py:2739: UserWarning: X does not have valid feature names, but StandardScaler was fitted with feature names\n",
      "  warnings.warn(\n"
     ]
    }
   ],
   "source": [
    "def predict_win_probability(team1_stats, team2_stats, model, scaler):\n",
    "    \"\"\"\n",
    "    Predict the win probability for two teams.\n",
    "    \"\"\"\n",
    "    team1_scaled = scaler.transform([team1_stats])\n",
    "    team2_scaled = scaler.transform([team2_stats])\n",
    "\n",
    "    team1_win_rate = model.predict(team1_scaled)[0]\n",
    "    team2_win_rate = model.predict(team2_scaled)[0]\n",
    "\n",
    "    # Normalize probabilities\n",
    "    total = team1_win_rate + team2_win_rate\n",
    "    team1_prob = team1_win_rate / total\n",
    "    team2_prob = team2_win_rate / total\n",
    "\n",
    "    return team1_prob, team2_prob\n",
    "\n",
    "# Example usage\n",
    "team1_stats = X.iloc[0].values  # Replace with actual team stats\n",
    "team2_stats = X.iloc[1].values  # Replace with actual team stats\n",
    "team1_prob, team2_prob = predict_win_probability(team1_stats, team2_stats, model, scaler)\n",
    "print(f\"Team 1 Probability: {team1_prob:.2f}, Team 2 Probability: {team2_prob:.2f}\")\n"
   ]
  },
  {
   "cell_type": "code",
   "execution_count": 50,
   "metadata": {},
   "outputs": [
    {
     "data": {
      "text/plain": [
       "['team_matchup_predictor.pkl']"
      ]
     },
     "execution_count": 50,
     "metadata": {},
     "output_type": "execute_result"
    }
   ],
   "source": [
    "import joblib\n",
    "joblib.dump(scaler, \"scaler.pkl\")\n",
    "joblib.dump(model, \"team_matchup_predictor.pkl\")"
   ]
  },
  {
   "cell_type": "code",
   "execution_count": null,
   "metadata": {},
   "outputs": [],
   "source": []
  }
 ],
 "metadata": {
  "kernelspec": {
   "display_name": "venv",
   "language": "python",
   "name": "python3"
  },
  "language_info": {
   "codemirror_mode": {
    "name": "ipython",
    "version": 3
   },
   "file_extension": ".py",
   "mimetype": "text/x-python",
   "name": "python",
   "nbconvert_exporter": "python",
   "pygments_lexer": "ipython3",
   "version": "3.11.9"
  }
 },
 "nbformat": 4,
 "nbformat_minor": 2
}
